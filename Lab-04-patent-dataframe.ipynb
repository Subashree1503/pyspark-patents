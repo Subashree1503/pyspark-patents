{
 "cells": [
  {
   "cell_type": "markdown",
   "metadata": {},
   "source": [
    "# CSCI 4253 / 5253 - Lab #4 - Patent Problem with Spark DataFrames\n",
    "<div>\n",
    " <h2> CSCI 4283 / 5253 \n",
    "  <IMG SRC=\"https://www.colorado.edu/cs/profiles/express/themes/cuspirit/logo.png\" WIDTH=50 ALIGN=\"right\"/> </h2>\n",
    "</div>"
   ]
  },
  {
   "cell_type": "markdown",
   "metadata": {},
   "source": [
    "This [Spark cheatsheet](https://s3.amazonaws.com/assets.datacamp.com/blog_assets/PySpark_SQL_Cheat_Sheet_Python.pdf) is useful as is [this reference on doing joins in Spark dataframe](http://www.learnbymarketing.com/1100/pyspark-joins-by-example/).\n",
    "\n",
    "The [DataBricks company has one of the better reference manuals for PySpark](https://docs.databricks.com/spark/latest/dataframes-datasets/index.html) -- they show you how to perform numerous common data operations such as joins, aggregation operations following `groupBy` and the like."
   ]
  },
  {
   "cell_type": "code",
   "execution_count": 17,
   "metadata": {},
   "outputs": [],
   "source": [
    "from pyspark import SparkContext, SparkConf\n",
    "from pyspark.sql import SparkSession"
   ]
  },
  {
   "cell_type": "markdown",
   "metadata": {},
   "source": [
    "The following aggregation functions may be useful -- [these can be used to aggregate results of `groupby` operations](https://docs.databricks.com/spark/latest/dataframes-datasets/introduction-to-dataframes-python.html#example-aggregations-using-agg-and-countdistinct). More documentation is at the [PySpark SQL Functions manual](https://spark.apache.org/docs/latest/api/python/reference/pyspark.sql/index.html). Feel free to use other functions from that library."
   ]
  },
  {
   "cell_type": "code",
   "execution_count": 18,
   "metadata": {},
   "outputs": [],
   "source": [
    "from pyspark.sql.functions import col, count, countDistinct"
   ]
  },
  {
   "cell_type": "markdown",
   "metadata": {},
   "source": [
    "Create our session as described in the tutorials"
   ]
  },
  {
   "cell_type": "code",
   "execution_count": 19,
   "metadata": {},
   "outputs": [],
   "source": [
    "spark = SparkSession \\\n",
    "    .builder \\\n",
    "    .appName(\"Lab4-Dataframe\") \\\n",
    "    .master(\"local[*]\")\\\n",
    "    .getOrCreate()"
   ]
  },
  {
   "cell_type": "markdown",
   "metadata": {},
   "source": [
    "Read in the citations and patents data and check that the data makes sense. Note that unlike in the RDD solution, the data is automatically inferred to be Integer() types."
   ]
  },
  {
   "cell_type": "code",
   "execution_count": 4,
   "metadata": {},
   "outputs": [],
   "source": [
    "citations = spark.read.load('cite75_99.txt.gz',\n",
    "            format=\"csv\", sep=\",\", header=True,\n",
    "            compression=\"gzip\",\n",
    "            inferSchema=\"true\")"
   ]
  },
  {
   "cell_type": "code",
   "execution_count": 5,
   "metadata": {},
   "outputs": [
    {
     "name": "stdout",
     "output_type": "stream",
     "text": [
      "+-------+-------+\n",
      "| CITING|  CITED|\n",
      "+-------+-------+\n",
      "|3858241| 956203|\n",
      "|3858241|1324234|\n",
      "|3858241|3398406|\n",
      "|3858241|3557384|\n",
      "|3858241|3634889|\n",
      "+-------+-------+\n",
      "only showing top 5 rows\n",
      "\n"
     ]
    }
   ],
   "source": [
    "citations.show(5)"
   ]
  },
  {
   "cell_type": "code",
   "execution_count": 6,
   "metadata": {},
   "outputs": [],
   "source": [
    "patents = spark.read.load('apat63_99.txt.gz',\n",
    "            format=\"csv\", sep=\",\", header=True,\n",
    "            compression=\"gzip\",\n",
    "            inferSchema=\"true\")"
   ]
  },
  {
   "cell_type": "code",
   "execution_count": 7,
   "metadata": {},
   "outputs": [
    {
     "name": "stdout",
     "output_type": "stream",
     "text": [
      "+-------+-----+-----+-------+-------+-------+--------+-------+------+------+---+------+-----+--------+--------+-------+--------+--------+--------+--------+--------+--------+--------+\n",
      "| PATENT|GYEAR|GDATE|APPYEAR|COUNTRY|POSTATE|ASSIGNEE|ASSCODE|CLAIMS|NCLASS|CAT|SUBCAT|CMADE|CRECEIVE|RATIOCIT|GENERAL|ORIGINAL|FWDAPLAG|BCKGTLAG|SELFCTUB|SELFCTLB|SECDUPBD|SECDLWBD|\n",
      "+-------+-----+-----+-------+-------+-------+--------+-------+------+------+---+------+-----+--------+--------+-------+--------+--------+--------+--------+--------+--------+--------+\n",
      "|3070801| 1963| 1096|   null|     BE|   null|    null|      1|  null|   269|  6|    69| null|       1|    null|    0.0|    null|    null|    null|    null|    null|    null|    null|\n",
      "|3070802| 1963| 1096|   null|     US|     TX|    null|      1|  null|     2|  6|    63| null|       0|    null|   null|    null|    null|    null|    null|    null|    null|    null|\n",
      "|3070803| 1963| 1096|   null|     US|     IL|    null|      1|  null|     2|  6|    63| null|       9|    null| 0.3704|    null|    null|    null|    null|    null|    null|    null|\n",
      "|3070804| 1963| 1096|   null|     US|     OH|    null|      1|  null|     2|  6|    63| null|       3|    null| 0.6667|    null|    null|    null|    null|    null|    null|    null|\n",
      "|3070805| 1963| 1096|   null|     US|     CA|    null|      1|  null|     2|  6|    63| null|       1|    null|    0.0|    null|    null|    null|    null|    null|    null|    null|\n",
      "+-------+-----+-----+-------+-------+-------+--------+-------+------+------+---+------+-----+--------+--------+-------+--------+--------+--------+--------+--------+--------+--------+\n",
      "only showing top 5 rows\n",
      "\n"
     ]
    }
   ],
   "source": [
    "patents.show(5)"
   ]
  },
  {
   "cell_type": "markdown",
   "metadata": {
    "tags": []
   },
   "source": [
    "# Solution:\n",
    "\n",
    "I first start with removing NULL values form the Patents DataFrame"
   ]
  },
  {
   "cell_type": "code",
   "execution_count": 8,
   "metadata": {},
   "outputs": [
    {
     "name": "stdout",
     "output_type": "stream",
     "text": [
      "+-------+-----+-----+-------+-------+-------+--------+-------+------+------+---+------+-----+--------+--------+-------+--------+--------+--------+--------+--------+--------+--------+\n",
      "| PATENT|GYEAR|GDATE|APPYEAR|COUNTRY|POSTATE|ASSIGNEE|ASSCODE|CLAIMS|NCLASS|CAT|SUBCAT|CMADE|CRECEIVE|RATIOCIT|GENERAL|ORIGINAL|FWDAPLAG|BCKGTLAG|SELFCTUB|SELFCTLB|SECDUPBD|SECDLWBD|\n",
      "+-------+-----+-----+-------+-------+-------+--------+-------+------+------+---+------+-----+--------+--------+-------+--------+--------+--------+--------+--------+--------+--------+\n",
      "|3070802| 1963| 1096|   null|     US|     TX|    null|      1|  null|     2|  6|    63| null|       0|    null|   null|    null|    null|    null|    null|    null|    null|    null|\n",
      "|3070803| 1963| 1096|   null|     US|     IL|    null|      1|  null|     2|  6|    63| null|       9|    null| 0.3704|    null|    null|    null|    null|    null|    null|    null|\n",
      "|3070804| 1963| 1096|   null|     US|     OH|    null|      1|  null|     2|  6|    63| null|       3|    null| 0.6667|    null|    null|    null|    null|    null|    null|    null|\n",
      "|3070805| 1963| 1096|   null|     US|     CA|    null|      1|  null|     2|  6|    63| null|       1|    null|    0.0|    null|    null|    null|    null|    null|    null|    null|\n",
      "|3070806| 1963| 1096|   null|     US|     PA|    null|      1|  null|     2|  6|    63| null|       0|    null|   null|    null|    null|    null|    null|    null|    null|    null|\n",
      "|3070807| 1963| 1096|   null|     US|     OH|    null|      1|  null|   623|  3|    39| null|       3|    null| 0.4444|    null|    null|    null|    null|    null|    null|    null|\n",
      "|3070808| 1963| 1096|   null|     US|     IA|    null|      1|  null|   623|  3|    39| null|       4|    null|  0.375|    null|    null|    null|    null|    null|    null|    null|\n",
      "|3070809| 1963| 1096|   null|     US|     AZ|    null|      1|  null|     4|  6|    65| null|       0|    null|   null|    null|    null|    null|    null|    null|    null|    null|\n",
      "|3070810| 1963| 1096|   null|     US|     IL|    null|      1|  null|     4|  6|    65| null|       3|    null| 0.4444|    null|    null|    null|    null|    null|    null|    null|\n",
      "|3070811| 1963| 1096|   null|     US|     CA|    null|      1|  null|     4|  6|    65| null|       8|    null|    0.0|    null|    null|    null|    null|    null|    null|    null|\n",
      "|3070812| 1963| 1096|   null|     US|     LA|    null|      1|  null|     4|  6|    65| null|       3|    null| 0.4444|    null|    null|    null|    null|    null|    null|    null|\n",
      "|3070813| 1963| 1096|   null|     US|     NY|    null|      1|  null|     5|  6|    65| null|       2|    null|    0.0|    null|    null|    null|    null|    null|    null|    null|\n",
      "|3070814| 1963| 1096|   null|     US|     MN|    null|      2|  null|   267|  5|    59| null|       2|    null|    0.5|    null|    null|    null|    null|    null|    null|    null|\n",
      "|3070815| 1963| 1096|   null|     US|     CO|    null|      1|  null|     7|  5|    59| null|       1|    null|    0.0|    null|    null|    null|    null|    null|    null|    null|\n",
      "|3070816| 1963| 1096|   null|     US|     OK|    null|      1|  null|   114|  5|    55| null|       4|    null|    0.0|    null|    null|    null|    null|    null|    null|    null|\n",
      "|3070817| 1963| 1096|   null|     US|     RI|    null|      2|  null|   114|  5|    55| null|       5|    null|   0.64|    null|    null|    null|    null|    null|    null|    null|\n",
      "|3070818| 1963| 1096|   null|     US|     IN|    null|      1|  null|   441|  6|    69| null|       4|    null|  0.625|    null|    null|    null|    null|    null|    null|    null|\n",
      "|3070819| 1963| 1096|   null|     US|     TN|    null|      4|  null|    12|  6|    63| null|       0|    null|   null|    null|    null|    null|    null|    null|    null|    null|\n",
      "|3070821| 1963| 1096|   null|     US|     IL|    null|      2|  null|    15|  6|    69| null|       1|    null|    0.0|    null|    null|    null|    null|    null|    null|    null|\n",
      "|3070822| 1963| 1096|   null|     US|     NY|    null|      2|  null|   401|  1|    12| null|       4|    null|  0.375|    null|    null|    null|    null|    null|    null|    null|\n",
      "+-------+-----+-----+-------+-------+-------+--------+-------+------+------+---+------+-----+--------+--------+-------+--------+--------+--------+--------+--------+--------+--------+\n",
      "only showing top 20 rows\n",
      "\n"
     ]
    }
   ],
   "source": [
    "# Remove rows where POSTATE is null from the patents DataFrame\n",
    "patents_cleaned = patents.dropna(subset=[\"POSTATE\"])\n",
    "patents_cleaned.show()\n"
   ]
  },
  {
   "cell_type": "code",
   "execution_count": 9,
   "metadata": {},
   "outputs": [],
   "source": [
    "# setting alias\n",
    "sc = citations.alias('sc')\n",
    "sp = patents_cleaned.alias('sp')"
   ]
  },
  {
   "cell_type": "markdown",
   "metadata": {},
   "source": [
    "## Joining Postate and Citing"
   ]
  },
  {
   "cell_type": "markdown",
   "metadata": {},
   "source": [
    "Joining the POSTATE column from the Patents DataFrame as 'CITING_POSTATE' with the CITATIONS DataFrame:"
   ]
  },
  {
   "cell_type": "code",
   "execution_count": 10,
   "metadata": {},
   "outputs": [
    {
     "name": "stdout",
     "output_type": "stream",
     "text": [
      "+-------+--------------+-------+\n",
      "| CITING|CITING_POSTATE|  CITED|\n",
      "+-------+--------------+-------+\n",
      "|3858242|            MI|1515701|\n",
      "|3858242|            MI|3319261|\n",
      "|3858242|            MI|3668705|\n",
      "|3858242|            MI|3707004|\n",
      "|3858244|            CT|  14040|\n",
      "|3858244|            CT|  17445|\n",
      "|3858244|            CT|2211676|\n",
      "|3858244|            CT|2635670|\n",
      "|3858244|            CT|2838924|\n",
      "|3858244|            CT|2912700|\n",
      "|3858245|            NY|2072303|\n",
      "|3858245|            NY|3176316|\n",
      "|3858245|            NY|3553737|\n",
      "|3858245|            NY|3608095|\n",
      "|3858245|            NY|3621837|\n",
      "|3858245|            NY|3699969|\n",
      "|3858245|            NY|3755824|\n",
      "|3858250|            NY|2741776|\n",
      "|3858250|            NY|2869141|\n",
      "|3858250|            NY|2883675|\n",
      "+-------+--------------+-------+\n",
      "only showing top 20 rows\n",
      "\n"
     ]
    }
   ],
   "source": [
    "inner_join = sc.join(sp, sc.CITING == sp.PATENT, 'inner')\n",
    "\n",
    "# Select only CITING, POSTATE (renamed as CITING_POSTATE), and CITED\n",
    "citing_postate = inner_join.select(\n",
    "    sc[\"CITING\"],\n",
    "    sp[\"POSTATE\"].alias(\"CITING_POSTATE\"),\n",
    "    sc[\"CITED\"]\n",
    ")\n",
    "citing_postate.show()"
   ]
  },
  {
   "cell_type": "markdown",
   "metadata": {},
   "source": [
    "Now, joining the POSTATE column from the Patents DataFrame as 'CITED_POSTATE' with the CITATIONS DataFrame. This gives us an intermediate DataFrame to further calculate the number of SAME_STATE citations."
   ]
  },
  {
   "cell_type": "code",
   "execution_count": 11,
   "metadata": {},
   "outputs": [
    {
     "name": "stdout",
     "output_type": "stream",
     "text": [
      "+-------+--------------+-------+-------------+\n",
      "| CITING|CITING_POSTATE|  CITED|CITED_POSTATE|\n",
      "+-------+--------------+-------+-------------+\n",
      "|4483021|            MS|3070803|           IL|\n",
      "|4133055|            NH|3070803|           IL|\n",
      "|4921141|            CA|3070803|           IL|\n",
      "|5557807|            FL|3070803|           IL|\n",
      "|4484363|            CA|3070803|           IL|\n",
      "|5850636|            CA|3070803|           IL|\n",
      "|4400830|            FL|3070805|           CA|\n",
      "|4058119|            WA|3070807|           OH|\n",
      "|3976076|            ME|3070810|           IL|\n",
      "|5946742|            SC|3070810|           IL|\n",
      "|4060860|            UT|3070811|           CA|\n",
      "|4195370|            WA|3070811|           CA|\n",
      "|4385407|            CA|3070811|           CA|\n",
      "|4407027|            CA|3070811|           CA|\n",
      "|5890240|            CA|3070811|           CA|\n",
      "|5533214|            CA|3070811|           CA|\n",
      "|4370762|            OH|3070812|           LA|\n",
      "|4733415|            PA|3070812|           LA|\n",
      "|3927703|            MN|3070812|           LA|\n",
      "|4136548|            PA|3070815|           CO|\n",
      "+-------+--------------+-------+-------------+\n",
      "only showing top 20 rows\n",
      "\n"
     ]
    }
   ],
   "source": [
    "inner_join_cited = citing_postate.join(sp, citing_postate.CITED == sp.PATENT, 'inner')\n",
    "\n",
    "# Select only CITING, POSTATE (renamed as CITING_POSTATE), and CITED\n",
    "CITED_CITING_POSTATE = inner_join_cited.select(\n",
    "    inner_join_cited[\"CITING\"], \n",
    "    inner_join_cited[\"CITING_POSTATE\"],\n",
    "    inner_join_cited[\"CITED\"], \n",
    "    inner_join_cited[\"POSTATE\"].alias(\"CITED_POSTATE\")\n",
    ")\n",
    "\n",
    "# Show the result\n",
    "CITED_CITING_POSTATE.show()"
   ]
  },
  {
   "cell_type": "markdown",
   "metadata": {},
   "source": [
    "Now that we have the intermediate DataFrame `CITED_CITING_POSTATE`, we can use the `flither()` function to choose CITITATIONS where **CITING_POSTATE == CITED_POSTATE**. This will give us a DataFrame with CITATIONS that have cited the same state patents\n",
    "\n"
   ]
  },
  {
   "cell_type": "code",
   "execution_count": 12,
   "metadata": {},
   "outputs": [
    {
     "name": "stdout",
     "output_type": "stream",
     "text": [
      "+-------+--------------+-------+-------------+\n",
      "| CITING|CITING_POSTATE|  CITED|CITED_POSTATE|\n",
      "+-------+--------------+-------+-------------+\n",
      "|4067198|            AK|3217791|           AK|\n",
      "|4676695|            AK|3217791|           AK|\n",
      "|5190098|            AK|3217791|           AK|\n",
      "|5238053|            AK|3217791|           AK|\n",
      "|4075779|            AK|3373523|           AK|\n",
      "|4130086|            AK|3464385|           AK|\n",
      "|4178878|            AK|3464385|           AK|\n",
      "|4344414|            AK|3472314|           AK|\n",
      "|5618134|            AK|3472314|           AK|\n",
      "|4205718|            AK|3472314|           AK|\n",
      "|5172587|            AK|3797257|           AK|\n",
      "|4944413|            AK|3870156|           AK|\n",
      "|4014293|            AK|3886905|           AK|\n",
      "|4344414|            AK|3908753|           AK|\n",
      "|4205718|            AK|3908753|           AK|\n",
      "|4304440|            AK|3967854|           AK|\n",
      "|4557498|            AK|4165888|           AK|\n",
      "|4742798|            AK|4180012|           AK|\n",
      "|5697730|            AK|4181448|           AK|\n",
      "|4245930|            AK|4192630|           AK|\n",
      "+-------+--------------+-------+-------------+\n",
      "only showing top 20 rows\n",
      "\n"
     ]
    }
   ],
   "source": [
    "# filter rows where CITING_POSTATE is equal to CITED_POSTATE\n",
    "CITED_CITING_POSTATE_SAME_STATE = CITED_CITING_POSTATE.filter(\n",
    "    col(\"CITING_POSTATE\") == col(\"CITED_POSTATE\")\n",
    ")\n",
    "\n",
    "CITED_CITING_POSTATE_SAME_STATE.show()\n"
   ]
  },
  {
   "cell_type": "markdown",
   "metadata": {},
   "source": [
    "Now that we have `CITED_CITING_POSTATE_SAME_STATE`, we can easily count the number of same state citations by using the `groupBy()` function on the CITING coulmn and the `count()` function."
   ]
  },
  {
   "cell_type": "code",
   "execution_count": 14,
   "metadata": {},
   "outputs": [
    {
     "name": "stdout",
     "output_type": "stream",
     "text": [
      "+-------+----------+\n",
      "| CITING|SAME_STATE|\n",
      "+-------+----------+\n",
      "|5959466|       125|\n",
      "|5983822|       103|\n",
      "|6008204|       100|\n",
      "|5952345|        98|\n",
      "|5998655|        96|\n",
      "|5958954|        96|\n",
      "|5936426|        94|\n",
      "|5913855|        90|\n",
      "|5978329|        90|\n",
      "|5951547|        90|\n",
      "|5980517|        90|\n",
      "|5739256|        90|\n",
      "|5925042|        90|\n",
      "|5618907|        89|\n",
      "|5689485|        89|\n",
      "|5978331|        89|\n",
      "|5928229|        89|\n",
      "|5917082|        89|\n",
      "|5602226|        88|\n",
      "|5847160|        87|\n",
      "+-------+----------+\n",
      "only showing top 20 rows\n",
      "\n"
     ]
    }
   ],
   "source": [
    "# Group by CITING and count the occurrences of same-state citations\n",
    "same_state_citations_count = CITED_CITING_POSTATE_SAME_STATE.groupBy(\"CITING\").agg(\n",
    "    count(\"CITED\").alias(\"SAME_STATE\")\n",
    ")\n",
    "\n",
    "# Order by the count in descending order\n",
    "same_state_citations_count_desc = same_state_citations_count.orderBy(\"SAME_STATE\", ascending=False)\n",
    "\n",
    "same_state_citations_count_desc.show()\n",
    "\n"
   ]
  },
  {
   "cell_type": "markdown",
   "metadata": {},
   "source": [
    "The above table shows the number of same state citations from each patent in descending order. Now we can just join our `PATENTS` table and the above table to get the final result.\n"
   ]
  },
  {
   "cell_type": "code",
   "execution_count": 15,
   "metadata": {},
   "outputs": [
    {
     "name": "stdout",
     "output_type": "stream",
     "text": [
      "+-------+-----+-----+-------+-------+-------+--------+-------+------+------+---+------+-----+--------+--------+-------+--------+--------+--------+--------+--------+--------+--------+----------+\n",
      "| PATENT|GYEAR|GDATE|APPYEAR|COUNTRY|POSTATE|ASSIGNEE|ASSCODE|CLAIMS|NCLASS|CAT|SUBCAT|CMADE|CRECEIVE|RATIOCIT|GENERAL|ORIGINAL|FWDAPLAG|BCKGTLAG|SELFCTUB|SELFCTLB|SECDUPBD|SECDLWBD|SAME_STATE|\n",
      "+-------+-----+-----+-------+-------+-------+--------+-------+------+------+---+------+-----+--------+--------+-------+--------+--------+--------+--------+--------+--------+--------+----------+\n",
      "|5959466| 1999|14515|   1997|     US|     CA|    5310|      2|  null|   326|  4|    46|  159|       0|     1.0|   null|  0.6186|    null|  4.8868|  0.0455|   0.044|    null|    null|       125|\n",
      "|5983822| 1999|14564|   1998|     US|     TX|  569900|      2|  null|   114|  5|    55|  200|       0|   0.995|   null|  0.7201|    null|   12.45|     0.0|     0.0|    null|    null|       103|\n",
      "|6008204| 1999|14606|   1998|     US|     CA|  749584|      2|  null|   514|  3|    31|  121|       0|     1.0|   null|  0.7415|    null|     5.0|  0.0085|  0.0083|    null|    null|       100|\n",
      "|5952345| 1999|14501|   1997|     US|     CA|  749584|      2|  null|   514|  3|    31|  118|       0|     1.0|   null|  0.7442|    null|  5.1102|     0.0|     0.0|    null|    null|        98|\n",
      "|5958954| 1999|14515|   1997|     US|     CA|  749584|      2|  null|   514|  3|    31|  116|       0|     1.0|   null|  0.7397|    null|   5.181|     0.0|     0.0|    null|    null|        96|\n",
      "|5998655| 1999|14585|   1998|     US|     CA|    null|      1|  null|   560|  1|    14|  114|       0|     1.0|   null|  0.7387|    null|  5.1667|    null|    null|    null|    null|        96|\n",
      "|5936426| 1999|14466|   1997|     US|     CA|    5310|      2|  null|   326|  4|    46|  178|       0|     1.0|   null|    0.58|    null| 11.2303|  0.0765|   0.073|    null|    null|        94|\n",
      "|5980517| 1999|14557|   1998|     US|     CA|  733846|      2|  null|   606|  3|    32|  241|       0|     1.0|   null|  0.7394|    null|  8.3776|     0.0|     0.0|    null|    null|        90|\n",
      "|5951547| 1999|14501|   1997|     US|     CA|  733846|      2|  null|   606|  3|    32|  242|       0|     1.0|   null|  0.7382|    null|  8.3471|     0.0|     0.0|    null|    null|        90|\n",
      "|5739256| 1998|13983|   1995|     US|     CA|   70060|      2|    15|   528|  1|    15|  453|       0|     1.0|   null|  0.8232|    null| 15.1104|  0.1124|  0.1082|    null|    null|        90|\n",
      "|5913855| 1999|14417|   1997|     US|     CA|  733846|      2|  null|   606|  3|    32|  242|       0|     1.0|   null|  0.7403|    null|  8.3595|     0.0|     0.0|    null|    null|        90|\n",
      "|5925042| 1999|14445|   1997|     US|     CA|  733846|      2|  null|   606|  3|    32|  242|       0|     1.0|   null|  0.7382|    null|  8.3471|     0.0|     0.0|    null|    null|        90|\n",
      "|5978329| 1999|14550|   1995|     US|     CA|  148925|      2|  null|   369|  2|    24|  145|       0|     1.0|   null|  0.5449|    null| 12.9241|  0.4196|  0.4138|    null|    null|        90|\n",
      "|5978331| 1999|14550|   1997|     US|     CA|  148925|      2|  null|   369|  2|    24|  148|       0|     1.0|   null|  0.5278|    null| 12.9459|  0.4014|  0.3986|    null|    null|        89|\n",
      "|5928229| 1999|14452|   1997|     US|     CA|  733846|      2|  null|   606|  3|    32|  240|       0|     1.0|   null|  0.7407|    null|  8.4083|     0.0|     0.0|    null|    null|        89|\n",
      "|5689485| 1997|13836|   1996|     US|     CA|  148925|      2|    30|   369|  2|    24|  138|       0|     1.0|   null|  0.5556|    null| 11.2174|  0.4307|  0.4275|    null|    null|        89|\n",
      "|5917082| 1999|14424|   1997|     US|     CA|  749584|      2|  null|   560|  1|    14|  107|       0|     1.0|   null|  0.7206|    null|  5.4393|     0.0|     0.0|    null|    null|        89|\n",
      "|5618907| 1997|13612|   1995|     US|     CA|   70060|      2|     6|   528|  1|    15|  453|       0|     1.0|   null|  0.8248|    null| 14.1369|  0.1103|   0.106|    null|    null|        89|\n",
      "|5602226| 1997|13556|   1995|     US|     CA|   70060|      2|    21|   528|  1|    15|  450|       0|     1.0|   null|  0.8273|    null| 14.1244|  0.1088|  0.1044|    null|    null|        88|\n",
      "|5847160| 1998|14221|   1997|     US|     CA|   19170|      2|    12|   549|  1|    14|  106|       0|     1.0|   null|  0.7246|    null|  4.4811|   0.835|  0.8113|    null|    null|        87|\n",
      "+-------+-----+-----+-------+-------+-------+--------+-------+------+------+---+------+-----+--------+--------+-------+--------+--------+--------+--------+--------+--------+--------+----------+\n",
      "only showing top 20 rows\n",
      "\n"
     ]
    }
   ],
   "source": [
    "# Join same_state_citations_count_desc with sp on CITING and PATENT\n",
    "final_result = sp.join(\n",
    "    same_state_citations_count_desc, \n",
    "    same_state_citations_count_desc[\"CITING\"] == sp[\"PATENT\"]\n",
    ")\n",
    "\n",
    "# Drop CITING and order by SAME_STATE in descending order\n",
    "final_result_ordered = final_result.drop(\"CITING\").orderBy(col(\"SAME_STATE\").desc())\n",
    "\n",
    "final_result_ordered.show()\n"
   ]
  },
  {
   "cell_type": "markdown",
   "metadata": {},
   "source": [
    "The above table shows the final result were the patents table shows one additions columns `SAME_STATE`."
   ]
  },
  {
   "cell_type": "code",
   "execution_count": null,
   "metadata": {},
   "outputs": [],
   "source": []
  }
 ],
 "metadata": {
  "kernelspec": {
   "display_name": "Python 3 (ipykernel)",
   "language": "python",
   "name": "python3"
  },
  "language_info": {
   "codemirror_mode": {
    "name": "ipython",
    "version": 3
   },
   "file_extension": ".py",
   "mimetype": "text/x-python",
   "name": "python",
   "nbconvert_exporter": "python",
   "pygments_lexer": "ipython3",
   "version": "3.10.8"
  }
 },
 "nbformat": 4,
 "nbformat_minor": 4
}
